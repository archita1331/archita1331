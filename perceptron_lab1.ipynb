{
  "nbformat": 4,
  "nbformat_minor": 0,
  "metadata": {
    "colab": {
      "provenance": [],
      "toc_visible": true,
      "authorship_tag": "ABX9TyM3FhvquqcdHNWF8+48XDrW",
      "include_colab_link": true
    },
    "kernelspec": {
      "name": "python3",
      "display_name": "Python 3"
    },
    "language_info": {
      "name": "python"
    }
  },
  "cells": [
    {
      "cell_type": "markdown",
      "metadata": {
        "id": "view-in-github",
        "colab_type": "text"
      },
      "source": [
        "<a href=\"https://colab.research.google.com/github/archita1331/archita1331/blob/main/perceptron_lab1.ipynb\" target=\"_parent\"><img src=\"https://colab.research.google.com/assets/colab-badge.svg\" alt=\"Open In Colab\"/></a>"
      ]
    },
    {
      "cell_type": "code",
      "execution_count": 1,
      "metadata": {
        "id": "NWKndC6DBQ_O"
      },
      "outputs": [],
      "source": [
        "import numpy as np"
      ]
    },
    {
      "cell_type": "code",
      "source": [
        "#define perceptron parameters\n",
        "input_size = 2\n",
        "weights = np.random.rand(input_size)\n",
        "bias = np.random.rand(1)"
      ],
      "metadata": {
        "id": "xjdOkyYtBYTi"
      },
      "execution_count": 12,
      "outputs": []
    },
    {
      "cell_type": "code",
      "source": [
        "#define step function\n",
        "def stepFunction(x):\n",
        "  return 1 if x > 0 else 0"
      ],
      "metadata": {
        "id": "H8TMJA5ZG-v9"
      },
      "execution_count": 3,
      "outputs": []
    },
    {
      "cell_type": "code",
      "source": [
        " #define perceptron function\n",
        "def perceptron(input, weights, bias):\n",
        "    sum = np.dot(input, weights) + bias\n",
        "    output = stepFunction(sum)\n",
        "    return output"
      ],
      "metadata": {
        "id": "Y05YLnE8HGOz"
      },
      "execution_count": 8,
      "outputs": []
    },
    {
      "cell_type": "code",
      "source": [
        "#generate random input\n",
        "input = np.random.rand(input_size)"
      ],
      "metadata": {
        "id": "35nZxj6WHHdc"
      },
      "execution_count": 9,
      "outputs": []
    },
    {
      "cell_type": "code",
      "source": [
        "#apply on percepron\n",
        "output = perceptron(input, weights, bias)"
      ],
      "metadata": {
        "id": "8NIEqq6pH64y"
      },
      "execution_count": 10,
      "outputs": []
    },
    {
      "cell_type": "code",
      "source": [
        "#Display the results\n",
        "print(\"input:\", input)\n",
        "print(\"weights:\", weights)\n",
        "print(\"bias:\", bias)\n",
        "print(\"output:\", output)"
      ],
      "metadata": {
        "colab": {
          "base_uri": "https://localhost:8080/"
        },
        "id": "IEmI34f2IDaa",
        "outputId": "31a49073-08c4-4453-96e0-df044905071d"
      },
      "execution_count": 11,
      "outputs": [
        {
          "output_type": "stream",
          "name": "stdout",
          "text": [
            "input: [0.66909691 0.6791434 ]\n",
            "weights: [0.16615708 0.36656994]\n",
            "bias: [0.40830761]\n",
            "output: 1\n"
          ]
        }
      ]
    }
  ]
}